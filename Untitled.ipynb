{
 "cells": [
  {
   "cell_type": "code",
   "execution_count": 1,
   "id": "2d9664bd",
   "metadata": {},
   "outputs": [],
   "source": [
    "import pandas as pd"
   ]
  },
  {
   "cell_type": "code",
   "execution_count": 28,
   "id": "9d6def43",
   "metadata": {},
   "outputs": [],
   "source": [
    "df_payment_type = pd.read_excel('dimension_sheet.xlsx', sheet_name='Payment_type')"
   ]
  },
  {
   "cell_type": "code",
   "execution_count": null,
   "id": "f52ed367",
   "metadata": {},
   "outputs": [],
   "source": []
  },
  {
   "cell_type": "code",
   "execution_count": 26,
   "id": "db54a45c",
   "metadata": {},
   "outputs": [
    {
     "data": {
      "text/html": [
       "<div>\n",
       "<style scoped>\n",
       "    .dataframe tbody tr th:only-of-type {\n",
       "        vertical-align: middle;\n",
       "    }\n",
       "\n",
       "    .dataframe tbody tr th {\n",
       "        vertical-align: top;\n",
       "    }\n",
       "\n",
       "    .dataframe thead th {\n",
       "        text-align: right;\n",
       "    }\n",
       "</style>\n",
       "<table border=\"1\" class=\"dataframe\">\n",
       "  <thead>\n",
       "    <tr style=\"text-align: right;\">\n",
       "      <th></th>\n",
       "      <th>รหัส</th>\n",
       "      <th>ประเภทการจ่าย</th>\n",
       "    </tr>\n",
       "  </thead>\n",
       "  <tbody>\n",
       "    <tr>\n",
       "      <th>0</th>\n",
       "      <td>1</td>\n",
       "      <td>ธนาคาร</td>\n",
       "    </tr>\n",
       "    <tr>\n",
       "      <th>1</th>\n",
       "      <td>2</td>\n",
       "      <td>เงินสด</td>\n",
       "    </tr>\n",
       "    <tr>\n",
       "      <th>2</th>\n",
       "      <td>3</td>\n",
       "      <td>ค้างจ่าย</td>\n",
       "    </tr>\n",
       "    <tr>\n",
       "      <th>3</th>\n",
       "      <td>4</td>\n",
       "      <td>ระงับ</td>\n",
       "    </tr>\n",
       "  </tbody>\n",
       "</table>\n",
       "</div>"
      ],
      "text/plain": [
       "   รหัส ประเภทการจ่าย\n",
       "0     1        ธนาคาร\n",
       "1     2        เงินสด\n",
       "2     3      ค้างจ่าย\n",
       "3     4         ระงับ"
      ]
     },
     "execution_count": 26,
     "metadata": {},
     "output_type": "execute_result"
    }
   ],
   "source": [
    "df_payment_type.head()"
   ]
  },
  {
   "cell_type": "code",
   "execution_count": 32,
   "id": "3583235f",
   "metadata": {},
   "outputs": [],
   "source": [
    "df_employee = pd.read_excel('dimension_sheet.xlsx', sheet_name='Employee')"
   ]
  },
  {
   "cell_type": "code",
   "execution_count": null,
   "id": "87dc366b",
   "metadata": {},
   "outputs": [],
   "source": []
  },
  {
   "cell_type": "code",
   "execution_count": 33,
   "id": "5049170d",
   "metadata": {},
   "outputs": [
    {
     "data": {
      "text/html": [
       "<div>\n",
       "<style scoped>\n",
       "    .dataframe tbody tr th:only-of-type {\n",
       "        vertical-align: middle;\n",
       "    }\n",
       "\n",
       "    .dataframe tbody tr th {\n",
       "        vertical-align: top;\n",
       "    }\n",
       "\n",
       "    .dataframe thead th {\n",
       "        text-align: right;\n",
       "    }\n",
       "</style>\n",
       "<table border=\"1\" class=\"dataframe\">\n",
       "  <thead>\n",
       "    <tr style=\"text-align: right;\">\n",
       "      <th></th>\n",
       "      <th>ลำดับ</th>\n",
       "      <th>รหัสพนักงาน</th>\n",
       "      <th>ชื่อพนักงาน</th>\n",
       "      <th>ชื่อพนักงาน ID</th>\n",
       "      <th>สังกัดฝ่าย</th>\n",
       "      <th>ระดับขั้นพนักงาน (Level)</th>\n",
       "      <th>ฐานค่าแรง</th>\n",
       "      <th>ช่องทางจ่ายเงินเดือน</th>\n",
       "      <th>วิธีการจ่ายเงินเดือน</th>\n",
       "      <th>ประเภทพนักนักงาน</th>\n",
       "      <th>ช่องทางการจ่ายเงินเดือน2</th>\n",
       "      <th>% หักปกส.</th>\n",
       "    </tr>\n",
       "  </thead>\n",
       "  <tbody>\n",
       "    <tr>\n",
       "      <th>0</th>\n",
       "      <td>1.0</td>\n",
       "      <td>320001.0</td>\n",
       "      <td>นายนิพัฒน์  ภาเภา</td>\n",
       "      <td>Niphat</td>\n",
       "      <td>NaN</td>\n",
       "      <td>0.0</td>\n",
       "      <td>NaN</td>\n",
       "      <td>1.0</td>\n",
       "      <td>SCB/2692554140</td>\n",
       "      <td>รายเดือน</td>\n",
       "      <td>ธนาคาร</td>\n",
       "      <td>0.05</td>\n",
       "    </tr>\n",
       "    <tr>\n",
       "      <th>1</th>\n",
       "      <td>2.0</td>\n",
       "      <td>340002.0</td>\n",
       "      <td>นางสุภาพรรณ์  ภาเภา</td>\n",
       "      <td>Suphaphan</td>\n",
       "      <td>NaN</td>\n",
       "      <td>0.0</td>\n",
       "      <td>NaN</td>\n",
       "      <td>1.0</td>\n",
       "      <td>SCB/2692554158</td>\n",
       "      <td>รายเดือน</td>\n",
       "      <td>ธนาคาร</td>\n",
       "      <td>0.05</td>\n",
       "    </tr>\n",
       "    <tr>\n",
       "      <th>2</th>\n",
       "      <td>3.0</td>\n",
       "      <td>570013.0</td>\n",
       "      <td>Mr.NOUNA</td>\n",
       "      <td>NOUNA</td>\n",
       "      <td>NaN</td>\n",
       "      <td>10.0</td>\n",
       "      <td>363.0</td>\n",
       "      <td>1.0</td>\n",
       "      <td>SCB/2692554996</td>\n",
       "      <td>รายวัน</td>\n",
       "      <td>ธนาคาร</td>\n",
       "      <td>NaN</td>\n",
       "    </tr>\n",
       "    <tr>\n",
       "      <th>3</th>\n",
       "      <td>4.0</td>\n",
       "      <td>580014.0</td>\n",
       "      <td>Mr.AUNG AUNG</td>\n",
       "      <td>AUNG AUNG</td>\n",
       "      <td>NaN</td>\n",
       "      <td>16.0</td>\n",
       "      <td>363.0</td>\n",
       "      <td>1.0</td>\n",
       "      <td>SCB/2692556354</td>\n",
       "      <td>รายวัน</td>\n",
       "      <td>ธนาคาร</td>\n",
       "      <td>NaN</td>\n",
       "    </tr>\n",
       "    <tr>\n",
       "      <th>4</th>\n",
       "      <td>5.0</td>\n",
       "      <td>580016.0</td>\n",
       "      <td>Mr.MAYPHAXAY</td>\n",
       "      <td>MAYPHAXAY</td>\n",
       "      <td>NaN</td>\n",
       "      <td>4.0</td>\n",
       "      <td>363.0</td>\n",
       "      <td>1.0</td>\n",
       "      <td>SCB/2692554190</td>\n",
       "      <td>รายวัน</td>\n",
       "      <td>ธนาคาร</td>\n",
       "      <td>NaN</td>\n",
       "    </tr>\n",
       "  </tbody>\n",
       "</table>\n",
       "</div>"
      ],
      "text/plain": [
       "   ลำดับ  รหัสพนักงาน          ชื่อพนักงาน ชื่อพนักงาน ID สังกัดฝ่าย  \\\n",
       "0    1.0     320001.0    นายนิพัฒน์  ภาเภา         Niphat        NaN   \n",
       "1    2.0     340002.0  นางสุภาพรรณ์  ภาเภา      Suphaphan        NaN   \n",
       "2    3.0     570013.0            Mr.NOUNA          NOUNA         NaN   \n",
       "3    4.0     580014.0        Mr.AUNG AUNG      AUNG AUNG         NaN   \n",
       "4    5.0     580016.0        Mr.MAYPHAXAY      MAYPHAXAY         NaN   \n",
       "\n",
       "   ระดับขั้นพนักงาน (Level)  ฐานค่าแรง  ช่องทางจ่ายเงินเดือน  \\\n",
       "0                       0.0        NaN                   1.0   \n",
       "1                       0.0        NaN                   1.0   \n",
       "2                      10.0      363.0                   1.0   \n",
       "3                      16.0      363.0                   1.0   \n",
       "4                       4.0      363.0                   1.0   \n",
       "\n",
       "  วิธีการจ่ายเงินเดือน ประเภทพนักนักงาน ช่องทางการจ่ายเงินเดือน2  % หักปกส.  \n",
       "0       SCB/2692554140         รายเดือน                   ธนาคาร       0.05  \n",
       "1       SCB/2692554158         รายเดือน                   ธนาคาร       0.05  \n",
       "2       SCB/2692554996           รายวัน                   ธนาคาร        NaN  \n",
       "3       SCB/2692556354           รายวัน                   ธนาคาร        NaN  \n",
       "4       SCB/2692554190           รายวัน                   ธนาคาร        NaN  "
      ]
     },
     "execution_count": 33,
     "metadata": {},
     "output_type": "execute_result"
    }
   ],
   "source": [
    "df_employee.head()"
   ]
  },
  {
   "cell_type": "code",
   "execution_count": null,
   "id": "5574ad38",
   "metadata": {},
   "outputs": [],
   "source": []
  },
  {
   "cell_type": "code",
   "execution_count": null,
   "id": "5a2a79aa",
   "metadata": {},
   "outputs": [],
   "source": []
  },
  {
   "cell_type": "code",
   "execution_count": null,
   "id": "aeef23cf",
   "metadata": {},
   "outputs": [],
   "source": []
  },
  {
   "cell_type": "code",
   "execution_count": null,
   "id": "8ba63c83",
   "metadata": {},
   "outputs": [],
   "source": []
  },
  {
   "cell_type": "code",
   "execution_count": null,
   "id": "bf9f62ca",
   "metadata": {},
   "outputs": [],
   "source": []
  },
  {
   "cell_type": "code",
   "execution_count": null,
   "id": "db55a91b",
   "metadata": {},
   "outputs": [],
   "source": []
  },
  {
   "cell_type": "code",
   "execution_count": null,
   "id": "7464f111",
   "metadata": {},
   "outputs": [],
   "source": []
  },
  {
   "cell_type": "code",
   "execution_count": null,
   "id": "2cf6dcd2",
   "metadata": {},
   "outputs": [],
   "source": []
  },
  {
   "cell_type": "code",
   "execution_count": null,
   "id": "5d65b3c4",
   "metadata": {},
   "outputs": [],
   "source": []
  },
  {
   "cell_type": "code",
   "execution_count": null,
   "id": "841b437c",
   "metadata": {},
   "outputs": [],
   "source": []
  },
  {
   "cell_type": "code",
   "execution_count": null,
   "id": "e7e31460",
   "metadata": {},
   "outputs": [],
   "source": []
  },
  {
   "cell_type": "code",
   "execution_count": null,
   "id": "8ac9101d",
   "metadata": {},
   "outputs": [],
   "source": []
  },
  {
   "cell_type": "code",
   "execution_count": null,
   "id": "f3bb2fa5",
   "metadata": {},
   "outputs": [],
   "source": []
  }
 ],
 "metadata": {
  "kernelspec": {
   "display_name": "Python 3",
   "language": "python",
   "name": "python3"
  },
  "language_info": {
   "codemirror_mode": {
    "name": "ipython",
    "version": 3
   },
   "file_extension": ".py",
   "mimetype": "text/x-python",
   "name": "python",
   "nbconvert_exporter": "python",
   "pygments_lexer": "ipython3",
   "version": "3.8.8"
  }
 },
 "nbformat": 4,
 "nbformat_minor": 5
}
